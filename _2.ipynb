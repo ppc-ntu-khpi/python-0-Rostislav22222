{
  "nbformat": 4,
  "nbformat_minor": 0,
  "metadata": {
    "colab": {
      "provenance": []
    },
    "kernelspec": {
      "name": "python3",
      "display_name": "Python 3"
    },
    "language_info": {
      "name": "python"
    }
  },
  "cells": [
    {
      "cell_type": "markdown",
      "metadata": {
        "id": "nspjmpTrxgZS"
      },
      "source": [
        "# Ще трохи математики"
      ]
    },
    {
      "cell_type": "markdown",
      "metadata": {
        "id": "9NqHzlZ2xtID"
      },
      "source": [
        "1. Обчисліть радіус кола, знаючи його площу. Нагадаємо формулу:\n",
        "$$\n",
        "  S=\\pi*R^2 => R =\\sqrt{\\frac{S}{\\pi}}\n",
        "$$\n",
        "Для обчислення скористаємось знайомими функціями ```sqrt``` та ```pi``` з пакету ```math```.\n"
      ]
    },
    {
      "cell_type": "code",
      "metadata": {
        "colab": {
          "base_uri": "https://localhost:8080/"
        },
        "id": "csfYPusD0mWX",
        "outputId": "2fd0d9e4-9440-49e1-ea07-47c68f7b5a09"
      },
      "source": [
        "from math import sqrt,pi\n",
        "S = float(input('Введіть площу кола: '))\n",
        "r = sqrt(S/pi)\n",
        "print ('Радіус дорівнює %6.3f см' %r)"
      ],
      "execution_count": null,
      "outputs": [
        {
          "output_type": "stream",
          "name": "stdout",
          "text": [
            "Введіть площу кола: 25\n",
            "Радіус дорівнює  2.821 см\n"
          ]
        }
      ]
    },
    {
      "cell_type": "markdown",
      "metadata": {
        "id": "e7Ed3mEp11Rw"
      },
      "source": [
        "2. А тепер за зразком знайдіть в наступній комірці площу сфери та об'єм кулі. Нагадуємо формули:\n",
        "$$\n",
        "  S=4*\\pi*R^2    \n",
        "$$\n",
        "$$\n",
        "  V=\\frac{4}{3}*\\pi*R^3\n",
        "$$\n",
        "Також нагадаємо, що ступінь в Python задається так: ```**```"
      ]
    },
    {
      "cell_type": "code",
      "metadata": {
        "id": "sTFMO4Xp3fgO",
        "outputId": "acbee000-9216-4bac-c481-dfc25f8148d9",
        "colab": {
          "base_uri": "https://localhost:8080/"
        }
      },
      "source": [
        "from math import pi\n",
        "R_S = float(input('Введіть радіус сфери: '))\n",
        "R_V = float(input('Введіть радіус кулі: '))\n",
        "S = 4 * pi * R_S**2\n",
        "V = 4/3 * pi * R_V**3\n",
        "print ('Площа дорівнює %6.3f см' %S)\n",
        "print ('Об\\'єм дорівнює %6.3f см' %V)"
      ],
      "execution_count": null,
      "outputs": [
        {
          "output_type": "stream",
          "name": "stdout",
          "text": [
            "Введіть радіус сфери: 14\n",
            "Введіть радіус кулі: 14\n",
            "Площа дорівнює 2463.009 см\n",
            "Об'єм дорівнює 11494.040 см\n"
          ]
        }
      ]
    },
    {
      "cell_type": "markdown",
      "metadata": {
        "id": "Ki46Slel5ASd"
      },
      "source": [
        "3. А ще давайте переведемо температуру за Фаренгейтом у градуси Цельсія і навпаки. Формули тут надзвичайно прості:\n",
        "$$\n",
        "  C=(F-32)*0.5556\n",
        "$$\n",
        "$$\n",
        "  F=C*1.8+32\n",
        "$$\n",
        "Спробуйте в наступній комірці! Пам'ятайте про \"красиве\" введення і виведення даних."
      ]
    },
    {
      "cell_type": "code",
      "metadata": {
        "id": "8yhfAwYm5E_z",
        "outputId": "5cc8ecf1-3d64-48e6-827e-33808b203be1",
        "colab": {
          "base_uri": "https://localhost:8080/"
        }
      },
      "source": [
        "F = float(input('Введіть температуру за F:'))\n",
        "C = (F-32)*0.5556\n",
        "print ('Температура C = F %6.3f см' %C)"
      ],
      "execution_count": null,
      "outputs": [
        {
          "output_type": "stream",
          "name": "stdout",
          "text": [
            "Введіть температуру за F:13\n",
            "Температура C = F -10.556 см\n"
          ]
        }
      ]
    },
    {
      "cell_type": "markdown",
      "source": [
        "# Новый раздел"
      ],
      "metadata": {
        "id": "MWcwNkxAd54N"
      }
    },
    {
      "cell_type": "code",
      "source": [
        "from google.colab import drive\n",
        "drive.mount('/content/drive')"
      ],
      "metadata": {
        "id": "6qpZfCu0d_ns",
        "outputId": "96770de5-596a-4760-d73e-194b5ad12c86",
        "colab": {
          "base_uri": "https://localhost:8080/"
        }
      },
      "execution_count": null,
      "outputs": [
        {
          "output_type": "stream",
          "name": "stdout",
          "text": [
            "Mounted at /content/drive\n"
          ]
        }
      ]
    },
    {
      "cell_type": "markdown",
      "metadata": {
        "id": "rnapogmC6dta"
      },
      "source": [
        "Ще більше простих вправ з Python - [тут](https://www.w3resource.com/python-exercises/python-basic-exercises.php)"
      ]
    }
  ]
}