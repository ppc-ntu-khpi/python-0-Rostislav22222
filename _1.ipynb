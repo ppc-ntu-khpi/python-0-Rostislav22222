{
  "nbformat": 4,
  "nbformat_minor": 0,
  "metadata": {
    "colab": {
      "provenance": []
    },
    "kernelspec": {
      "name": "python3",
      "display_name": "Python 3"
    },
    "language_info": {
      "name": "python"
    }
  },
  "cells": [
    {
      "cell_type": "markdown",
      "metadata": {
        "id": "rlre0OlSmOCt"
      },
      "source": [
        "# Створення калькулятора"
      ]
    },
    {
      "cell_type": "markdown",
      "metadata": {
        "id": "Vf-hl0LhzbI4"
      },
      "source": [
        "1. Запустіть на виконання наступну комірку з кодом. Введіть потрібні дані й перегляньте результат"
      ]
    },
    {
      "cell_type": "code",
      "metadata": {
        "colab": {
          "base_uri": "https://localhost:8080/"
        },
        "id": "dhrvfmbmmbjk",
        "outputId": "50d33257-3b7d-4e69-9077-34feed34da6c"
      },
      "source": [
        "first_number = int(input('Введіть перше число: ')) ;\n",
        "second_number = int(input('Введіть друге число: ')) ;\n",
        "print(\"Сума чисел: \", first_number + second_number)"
      ],
      "execution_count": null,
      "outputs": [
        {
          "output_type": "stream",
          "text": [
            "Введіть перше число: 12\n",
            "Введіть друге число: 23\n",
            "Сума чисел:  35\n"
          ],
          "name": "stdout"
        }
      ]
    },
    {
      "cell_type": "markdown",
      "metadata": {
        "id": "E2jK9sw7zsCy"
      },
      "source": [
        "2. В наступній пустій комірці спробуйте переписати код так, щоб виводились **сума, різниця, добуток та частка** введених чисел:"
      ]
    },
    {
      "cell_type": "code",
      "metadata": {
        "id": "CmzAvUWJ4RF3",
        "colab": {
          "base_uri": "https://localhost:8080/"
        },
        "outputId": "d14f315c-11f3-486b-b3ba-1b926975b067"
      },
      "source": [
        "first_number = int(input('Введіть перше число'));\n",
        "second_number = int(input('Введіть друге число'));\n",
        "print(\"Сума числа: \", first_number + second_number)\n",
        "print(\"Різниця числа: \", first_number - second_number)\n",
        "print(\"Частка числа: \", first_number / second_number)\n",
        "print(\"Добуток числа: \", first_number * second_number)"
      ],
      "execution_count": null,
      "outputs": [
        {
          "output_type": "stream",
          "name": "stdout",
          "text": [
            "Введіть перше число100\n",
            "Введіть друге число2\n",
            "Сума числа:  102\n",
            "Різниця числа:  98\n",
            "Частка числа:  50.0\n",
            "Добуток числа:  200\n"
          ]
        }
      ]
    },
    {
      "cell_type": "markdown",
      "metadata": {
        "id": "oxuEKHxW4WJU"
      },
      "source": [
        "3. А тепер давайте порахуємо відстань між Києвом та Полтавою у милях (1 миля = 1,60934 км), знаючи що в кілометрах це 305,3 км. Підказка: для заокруглення до першого знаку після коми використовуйте конструкцію \n",
        "``` python\n",
        "round(x, 1)\n",
        "```\n",
        "Результат обчислень збережіть у змінній ```distMiles```"
      ]
    },
    {
      "cell_type": "code",
      "metadata": {
        "id": "5XsPFvNI8q9b",
        "colab": {
          "base_uri": "https://localhost:8080/"
        },
        "outputId": "a9dac845-7e6d-49fe-b005-417b83ba5f7a"
      },
      "source": [
        "oneMile = 1.6\n",
        "kilometresToPoltava = 305\n",
        "distMiles = kilometresToPoltava / oneMile\n",
        "print(round(distMiles, 1 ))"
      ],
      "execution_count": null,
      "outputs": [
        {
          "output_type": "stream",
          "name": "stdout",
          "text": [
            "190.6\n"
          ]
        }
      ]
    },
    {
      "cell_type": "markdown",
      "metadata": {
        "id": "K7MSB5kX87wg"
      },
      "source": [
        "### Перевіримо чи все гаразд:\n",
        "До речі - це гарний приклад використання [Wolfram Alpha](https://www.wolframalpha.com/)!"
      ]
    },
    {
      "cell_type": "code",
      "metadata": {
        "id": "ocxz1jXhz7qH",
        "colab": {
          "base_uri": "https://localhost:8080/"
        },
        "outputId": "c7b9c532-c18c-42f1-ca5b-7aab9178687e"
      },
      "source": [
        "!pip install wolframalpha\n",
        "app_id = '2ARWPW-8GAHYH5HQH'\n",
        "\n",
        "from wolframalpha import Client\n",
        "\n",
        "client = Client(app_id)\n",
        "res = client.query('distance between Poltava and Kiev') # in km or miles\n",
        "\n",
        "# якби результат складався б з кількох блоків даних\n",
        "#for pod in res.pods:\n",
        "#  for sub in pod.subpods:\n",
        "#    print(sub.plaintext)\n",
        "\n",
        "res = next(res.results).text\n",
        "# print(res)\n",
        "\n",
        "correct = float(res.split(' ')[0])\n",
        "if distMiles==correct:\n",
        "  print('Все правильно! Ви молодець!')\n",
        "else:\n",
        "  print(f\"Щось не те - має вийти {correct} миль, а у Вас вийшло {distMiles}!\")"
      ],
      "execution_count": null,
      "outputs": [
        {
          "output_type": "stream",
          "name": "stdout",
          "text": [
            "Looking in indexes: https://pypi.org/simple, https://us-python.pkg.dev/colab-wheels/public/simple/\n",
            "Collecting wolframalpha\n",
            "  Downloading wolframalpha-5.0.0-py3-none-any.whl (7.5 kB)\n",
            "Collecting jaraco.context\n",
            "  Downloading jaraco.context-4.2.0-py3-none-any.whl (5.0 kB)\n",
            "Requirement already satisfied: more-itertools in /usr/local/lib/python3.8/dist-packages (from wolframalpha) (9.0.0)\n",
            "Collecting xmltodict\n",
            "  Downloading xmltodict-0.13.0-py2.py3-none-any.whl (10.0 kB)\n",
            "Installing collected packages: xmltodict, jaraco.context, wolframalpha\n",
            "Successfully installed jaraco.context-4.2.0 wolframalpha-5.0.0 xmltodict-0.13.0\n",
            "Щось не те - має вийти 305.3 миль, а у Вас вийшло 190.625!\n"
          ]
        }
      ]
    },
    {
      "cell_type": "markdown",
      "metadata": {
        "id": "H8d21gii0QsQ"
      },
      "source": [
        "Нагадую, що цю вправу ви також можете виконати на [Microsoft Learn](https://docs.microsoft.com/ru-ru/learn/modules/intro-to-python/7-exercise-input)."
      ]
    },
    {
      "cell_type": "markdown",
      "metadata": {
        "id": "__msdISS82eX"
      },
      "source": [
        "### Результат виконання роботи:"
      ]
    },
    {
      "cell_type": "code",
      "metadata": {
        "colab": {
          "base_uri": "https://localhost:8080/"
        },
        "id": "e4KBs6IF4j_B",
        "outputId": "0d48068a-1fbd-454b-f14d-bb44314dbdd5"
      },
      "source": [
        "distMiles = round(305.3 / 1.60934, 1)\n",
        "print(distMiles)"
      ],
      "execution_count": null,
      "outputs": [
        {
          "output_type": "stream",
          "name": "stdout",
          "text": [
            "189.7\n"
          ]
        }
      ]
    }
  ]
}